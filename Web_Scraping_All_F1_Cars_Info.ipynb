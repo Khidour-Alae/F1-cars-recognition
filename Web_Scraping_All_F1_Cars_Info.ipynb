{
  "nbformat": 4,
  "nbformat_minor": 0,
  "metadata": {
    "colab": {
      "provenance": [],
      "collapsed_sections": []
    },
    "kernelspec": {
      "name": "python3",
      "display_name": "Python 3"
    },
    "language_info": {
      "name": "python"
    }
  },
  "cells": [
    {
      "cell_type": "markdown",
      "source": [
        "Install packages and import them"
      ],
      "metadata": {
        "id": "sAqQwedFbVR9"
      }
    },
    {
      "cell_type": "code",
      "execution_count": null,
      "metadata": {
        "colab": {
          "base_uri": "https://localhost:8080/"
        },
        "id": "K_zHD-g9aXmV",
        "outputId": "eaa1127b-2f6f-446c-dc3a-83be4c54664b"
      },
      "outputs": [
        {
          "output_type": "stream",
          "name": "stdout",
          "text": [
            "Looking in indexes: https://pypi.org/simple, https://us-python.pkg.dev/colab-wheels/public/simple/\n",
            "Requirement already satisfied: beautifulsoup4 in /usr/local/lib/python3.7/dist-packages (4.6.3)\n"
          ]
        }
      ],
      "source": [
        "pip install beautifulsoup4"
      ]
    },
    {
      "cell_type": "code",
      "source": [
        "pip install requests"
      ],
      "metadata": {
        "colab": {
          "base_uri": "https://localhost:8080/"
        },
        "id": "YF5YmfZ9bBlu",
        "outputId": "eda9b64a-bc15-4642-dfbd-897512d01313"
      },
      "execution_count": null,
      "outputs": [
        {
          "output_type": "stream",
          "name": "stdout",
          "text": [
            "Looking in indexes: https://pypi.org/simple, https://us-python.pkg.dev/colab-wheels/public/simple/\n",
            "Requirement already satisfied: requests in /usr/local/lib/python3.7/dist-packages (2.23.0)\n",
            "Requirement already satisfied: chardet<4,>=3.0.2 in /usr/local/lib/python3.7/dist-packages (from requests) (3.0.4)\n",
            "Requirement already satisfied: idna<3,>=2.5 in /usr/local/lib/python3.7/dist-packages (from requests) (2.10)\n",
            "Requirement already satisfied: urllib3!=1.25.0,!=1.25.1,<1.26,>=1.21.1 in /usr/local/lib/python3.7/dist-packages (from requests) (1.24.3)\n",
            "Requirement already satisfied: certifi>=2017.4.17 in /usr/local/lib/python3.7/dist-packages (from requests) (2022.6.15)\n"
          ]
        }
      ]
    },
    {
      "cell_type": "code",
      "source": [
        "import requests\n",
        "from bs4 import BeautifulSoup\n",
        "import pandas as pd"
      ],
      "metadata": {
        "id": "TUPbC4B3bQw6"
      },
      "execution_count": 85,
      "outputs": []
    },
    {
      "cell_type": "markdown",
      "source": [
        "Scraping function depending on the year"
      ],
      "metadata": {
        "id": "AFZ7RtLjcPm5"
      }
    },
    {
      "cell_type": "code",
      "source": [
        "def year_url(year):\n",
        "  url=\"https://www.f1technical.net/f1db/cars/years/\"+str(year)\n",
        "  return url"
      ],
      "metadata": {
        "id": "WzH-smt_ZNo2"
      },
      "execution_count": 173,
      "outputs": []
    },
    {
      "cell_type": "code",
      "source": [
        "#This function gives a dataframe containing all the F1 cars of the year chosen\n",
        "\n",
        "def year_cars_dataframe(year):\n",
        "\n",
        "  # First we get the url of the year we need\n",
        "  url=year_url(year)\n",
        "\n",
        "  #Get the HTML code of the interesting part of the page\n",
        "  response=requests.get(url)\n",
        "  soup=BeautifulSoup(response.text,\"html.parser\")\n",
        "  content=soup.find_all(\"div\", {\"class\": \"content\"})\n",
        "  cars=content[2].findAll(\"tr\")\n",
        "\n",
        "#Creat a dictionaries list of F1 cars\n",
        "  cars_list=[]\n",
        "  for i in range(1,len(cars)):\n",
        "    car={}\n",
        "    car_td=cars[i].findAll(\"td\")\n",
        "    if car_td[0].a==None: # Fill All the missing information with \"Unknown\" \n",
        "      car[\"Chassis\"]=\"Unknown\"\n",
        "    else:\n",
        "      car[\"Chassis\"]=car_td[0].text\n",
        "\n",
        "    if car_td[1].img==None:\n",
        "      car[\"Country\"]=\"Unknown\"\n",
        "    else:\n",
        "      car[\"Country\"]=car_td[1].img.get('title')\n",
        "    \n",
        "    if car_td[2].a==None:\n",
        "      car[\"Team\"]=\"Unknown\"\n",
        "    else:\n",
        "      car[\"Team\"]=car_td[2].text\n",
        "\n",
        "    car[\"Year\"]=year\n",
        "\n",
        "    cars_list.append(car)\n",
        "    \n",
        "  #Convert the list to a Data Frame\n",
        "  df=pd.DataFrame(cars_list,columns=[\"Chassis\",\"Country\",\"Team\",\"Year\"])\n",
        "  return df"
      ],
      "metadata": {
        "id": "sbJrsyJVZ7FJ"
      },
      "execution_count": 178,
      "outputs": []
    },
    {
      "cell_type": "code",
      "source": [
        "#Scrap All the years\n",
        "dfList=[]\n",
        "for year in range(1950,2023):\n",
        "  dfList.append(year_cars_dataframe(year))"
      ],
      "metadata": {
        "id": "sHvs-wRoajNc"
      },
      "execution_count": 189,
      "outputs": []
    },
    {
      "cell_type": "code",
      "source": [
        "#Concatenate all the years in one Dataframe\n",
        "final_df=pd.concat(dfList)"
      ],
      "metadata": {
        "id": "9Re0bLrgd-7h"
      },
      "execution_count": 197,
      "outputs": []
    },
    {
      "cell_type": "code",
      "source": [
        "#Convert the Dataframe to a csv and xlsx files\n",
        "final_df.to_csv(\"All_F1_Cars_Of_The_History.csv\",index=False,encoding=\"utf-8\")\n",
        "final_df.to_excel(\"All_F1_Cars_Of_The_History.xlsx\",index=False,encoding=\"utf-8\")"
      ],
      "metadata": {
        "id": "fDlVoKqeiyBb"
      },
      "execution_count": 203,
      "outputs": []
    }
  ]
}