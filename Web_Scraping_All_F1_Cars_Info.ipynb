{
  "nbformat": 4,
  "nbformat_minor": 0,
  "metadata": {
    "colab": {
      "provenance": [],
      "collapsed_sections": []
    },
    "kernelspec": {
      "name": "python3",
      "display_name": "Python 3"
    },
    "language_info": {
      "name": "python"
    }
  },
  "cells": [
    {
      "cell_type": "markdown",
      "source": [
        "Install packages and import them"
      ],
      "metadata": {
        "id": "sAqQwedFbVR9"
      }
    },
    {
      "cell_type": "code",
      "execution_count": null,
      "metadata": {
        "colab": {
          "base_uri": "https://localhost:8080/"
        },
        "id": "K_zHD-g9aXmV",
        "outputId": "eaa1127b-2f6f-446c-dc3a-83be4c54664b"
      },
      "outputs": [
        {
          "output_type": "stream",
          "name": "stdout",
          "text": [
            "Looking in indexes: https://pypi.org/simple, https://us-python.pkg.dev/colab-wheels/public/simple/\n",
            "Requirement already satisfied: beautifulsoup4 in /usr/local/lib/python3.7/dist-packages (4.6.3)\n"
          ]
        }
      ],
      "source": [
        "pip install beautifulsoup4"
      ]
    },
    {
      "cell_type": "code",
      "source": [
        "pip install requests"
      ],
      "metadata": {
        "colab": {
          "base_uri": "https://localhost:8080/"
        },
        "id": "YF5YmfZ9bBlu",
        "outputId": "eda9b64a-bc15-4642-dfbd-897512d01313"
      },
      "execution_count": null,
      "outputs": [
        {
          "output_type": "stream",
          "name": "stdout",
          "text": [
            "Looking in indexes: https://pypi.org/simple, https://us-python.pkg.dev/colab-wheels/public/simple/\n",
            "Requirement already satisfied: requests in /usr/local/lib/python3.7/dist-packages (2.23.0)\n",
            "Requirement already satisfied: chardet<4,>=3.0.2 in /usr/local/lib/python3.7/dist-packages (from requests) (3.0.4)\n",
            "Requirement already satisfied: idna<3,>=2.5 in /usr/local/lib/python3.7/dist-packages (from requests) (2.10)\n",
            "Requirement already satisfied: urllib3!=1.25.0,!=1.25.1,<1.26,>=1.21.1 in /usr/local/lib/python3.7/dist-packages (from requests) (1.24.3)\n",
            "Requirement already satisfied: certifi>=2017.4.17 in /usr/local/lib/python3.7/dist-packages (from requests) (2022.6.15)\n"
          ]
        }
      ]
    },
    {
      "cell_type": "code",
      "source": [
        "import requests\n",
        "from bs4 import BeautifulSoup\n",
        "import pandas as pd"
      ],
      "metadata": {
        "id": "TUPbC4B3bQw6"
      },
      "execution_count": 85,
      "outputs": []
    },
    {
      "cell_type": "markdown",
      "source": [
        "Save the url of the website to scrap"
      ],
      "metadata": {
        "id": "AFZ7RtLjcPm5"
      }
    },
    {
      "cell_type": "code",
      "source": [
        "url=\"https://www.f1technical.net/f1db/cars/years/1956\""
      ],
      "metadata": {
        "id": "4Kvp-MzvbxBD"
      },
      "execution_count": 159,
      "outputs": []
    },
    {
      "cell_type": "code",
      "source": [
        "response=requests.get(url)\n",
        "soup=BeautifulSoup(response.text,\"html.parser\")\n",
        "content=soup.find_all(\"div\", {\"class\": \"content\"})\n",
        "cars=content[2].findAll(\"tr\")"
      ],
      "metadata": {
        "id": "Oj9y9WfEcVnl"
      },
      "execution_count": 160,
      "outputs": []
    },
    {
      "cell_type": "code",
      "source": [
        "cars[15].findAll(\"td\")[0].a"
      ],
      "metadata": {
        "colab": {
          "base_uri": "https://localhost:8080/"
        },
        "id": "Vr_6RMQuCIu4",
        "outputId": "c3e072d4-5d31-440c-8306-d6df48909802"
      },
      "execution_count": 161,
      "outputs": [
        {
          "output_type": "execute_result",
          "data": {
            "text/plain": [
              "<a href=\"/f1db/cars/87/kurtis-kraft-500c?sid=6eddfb88a1eb834897667d014b62a6e4\">Kurtis Kraft 500C</a>"
            ]
          },
          "metadata": {},
          "execution_count": 161
        }
      ]
    },
    {
      "cell_type": "code",
      "source": [
        "cars_list=[]\n",
        "for i in range(1,len(cars)):\n",
        "  car={}\n",
        "  car_td=cars[i].findAll(\"td\")\n",
        "  if car_td[0].a==None: # Fill All the missing information with \"Unknown\" \n",
        "    car[\"Chassis\"]=\"Unknown\"\n",
        "  else:\n",
        "    car[\"Chassis\"]=car_td[0].text\n",
        "\n",
        "  if car_td[1].img==None:\n",
        "    car[\"Country\"]=\"Unknown\"\n",
        "  else:\n",
        "    car[\"Country\"]=car_td[1].img.get('title')\n",
        "  \n",
        "  if car_td[2].a==None:\n",
        "    car[\"Team\"]=\"Unknown\"\n",
        "  else:\n",
        "    car[\"Team\"]=car_td[2].text\n",
        "  cars_list.append(car)"
      ],
      "metadata": {
        "id": "vIbKIt8zEAEg"
      },
      "execution_count": 162,
      "outputs": []
    },
    {
      "cell_type": "code",
      "source": [
        "#cars_list"
      ],
      "metadata": {
        "id": "A0esUSrBGuzr"
      },
      "execution_count": 163,
      "outputs": []
    },
    {
      "cell_type": "markdown",
      "source": [
        "Convert the list to a Data Frame"
      ],
      "metadata": {
        "id": "t_9iP-vMK9R_"
      }
    },
    {
      "cell_type": "code",
      "source": [
        "df=pd.DataFrame(cars_list,columns=[\"Chassis\",\"Country\",\"Team\"])\n",
        "df"
      ],
      "metadata": {
        "id": "TqRpmUpLKbOn",
        "colab": {
          "base_uri": "https://localhost:8080/",
          "height": 739
        },
        "outputId": "d3db2b5e-70ea-45cf-98b3-6b4bc53ff6f2"
      },
      "execution_count": 164,
      "outputs": [
        {
          "output_type": "execute_result",
          "data": {
            "text/plain": [
              "              Chassis         Country                               Team\n",
              "0             BRM P25  united kingdom              British Racing Motors\n",
              "1        Bugatti T251         Unknown                Automobiles Bugatti\n",
              "2         Connaught B         Unknown              Connaught Engineering\n",
              "3          Cooper T23  united kingdom                 Cooper Car Company\n",
              "4             Epperly   united states                            Epperly\n",
              "5         Ferrari 500           italy               Scuderia Ferrari SpA\n",
              "6         Ferrari 555           italy               Scuderia Ferrari SpA\n",
              "7         Ferrari D50           italy               Scuderia Ferrari SpA\n",
              "8         Gordini T16         Unknown                     Equipe Gordini\n",
              "9         Gordini T32         Unknown                     Equipe Gordini\n",
              "10       Kurtis Kraft   united states                       Kurtis Kraft\n",
              "11  Kurtis Kraft 4000   united states                       Kurtis Kraft\n",
              "12  Kurtis Kraft 500A   united states                       Kurtis Kraft\n",
              "13  Kurtis Kraft 500B   united states                       Kurtis Kraft\n",
              "14  Kurtis Kraft 500C   united states                       Kurtis Kraft\n",
              "15  Kurtis Kraft 500D   united states                       Kurtis Kraft\n",
              "16  Kurtis Kraft 500E   united states                       Kurtis Kraft\n",
              "17              Kuzma   united states                              Kuzma\n",
              "18      Maserati 250F           italy          Officine Alfieri Maserati\n",
              "19     Maserati A6GCM           italy          Officine Alfieri Maserati\n",
              "20         Vanwall W1         Unknown  Vanwall (Vandervell Products Ltd)\n",
              "21             Watson         Unknown                             Watson"
            ],
            "text/html": [
              "\n",
              "  <div id=\"df-08db454c-6a33-4088-a25d-a9e73e43d859\">\n",
              "    <div class=\"colab-df-container\">\n",
              "      <div>\n",
              "<style scoped>\n",
              "    .dataframe tbody tr th:only-of-type {\n",
              "        vertical-align: middle;\n",
              "    }\n",
              "\n",
              "    .dataframe tbody tr th {\n",
              "        vertical-align: top;\n",
              "    }\n",
              "\n",
              "    .dataframe thead th {\n",
              "        text-align: right;\n",
              "    }\n",
              "</style>\n",
              "<table border=\"1\" class=\"dataframe\">\n",
              "  <thead>\n",
              "    <tr style=\"text-align: right;\">\n",
              "      <th></th>\n",
              "      <th>Chassis</th>\n",
              "      <th>Country</th>\n",
              "      <th>Team</th>\n",
              "    </tr>\n",
              "  </thead>\n",
              "  <tbody>\n",
              "    <tr>\n",
              "      <th>0</th>\n",
              "      <td>BRM P25</td>\n",
              "      <td>united kingdom</td>\n",
              "      <td>British Racing Motors</td>\n",
              "    </tr>\n",
              "    <tr>\n",
              "      <th>1</th>\n",
              "      <td>Bugatti T251</td>\n",
              "      <td>Unknown</td>\n",
              "      <td>Automobiles Bugatti</td>\n",
              "    </tr>\n",
              "    <tr>\n",
              "      <th>2</th>\n",
              "      <td>Connaught B</td>\n",
              "      <td>Unknown</td>\n",
              "      <td>Connaught Engineering</td>\n",
              "    </tr>\n",
              "    <tr>\n",
              "      <th>3</th>\n",
              "      <td>Cooper T23</td>\n",
              "      <td>united kingdom</td>\n",
              "      <td>Cooper Car Company</td>\n",
              "    </tr>\n",
              "    <tr>\n",
              "      <th>4</th>\n",
              "      <td>Epperly</td>\n",
              "      <td>united states</td>\n",
              "      <td>Epperly</td>\n",
              "    </tr>\n",
              "    <tr>\n",
              "      <th>5</th>\n",
              "      <td>Ferrari 500</td>\n",
              "      <td>italy</td>\n",
              "      <td>Scuderia Ferrari SpA</td>\n",
              "    </tr>\n",
              "    <tr>\n",
              "      <th>6</th>\n",
              "      <td>Ferrari 555</td>\n",
              "      <td>italy</td>\n",
              "      <td>Scuderia Ferrari SpA</td>\n",
              "    </tr>\n",
              "    <tr>\n",
              "      <th>7</th>\n",
              "      <td>Ferrari D50</td>\n",
              "      <td>italy</td>\n",
              "      <td>Scuderia Ferrari SpA</td>\n",
              "    </tr>\n",
              "    <tr>\n",
              "      <th>8</th>\n",
              "      <td>Gordini T16</td>\n",
              "      <td>Unknown</td>\n",
              "      <td>Equipe Gordini</td>\n",
              "    </tr>\n",
              "    <tr>\n",
              "      <th>9</th>\n",
              "      <td>Gordini T32</td>\n",
              "      <td>Unknown</td>\n",
              "      <td>Equipe Gordini</td>\n",
              "    </tr>\n",
              "    <tr>\n",
              "      <th>10</th>\n",
              "      <td>Kurtis Kraft</td>\n",
              "      <td>united states</td>\n",
              "      <td>Kurtis Kraft</td>\n",
              "    </tr>\n",
              "    <tr>\n",
              "      <th>11</th>\n",
              "      <td>Kurtis Kraft 4000</td>\n",
              "      <td>united states</td>\n",
              "      <td>Kurtis Kraft</td>\n",
              "    </tr>\n",
              "    <tr>\n",
              "      <th>12</th>\n",
              "      <td>Kurtis Kraft 500A</td>\n",
              "      <td>united states</td>\n",
              "      <td>Kurtis Kraft</td>\n",
              "    </tr>\n",
              "    <tr>\n",
              "      <th>13</th>\n",
              "      <td>Kurtis Kraft 500B</td>\n",
              "      <td>united states</td>\n",
              "      <td>Kurtis Kraft</td>\n",
              "    </tr>\n",
              "    <tr>\n",
              "      <th>14</th>\n",
              "      <td>Kurtis Kraft 500C</td>\n",
              "      <td>united states</td>\n",
              "      <td>Kurtis Kraft</td>\n",
              "    </tr>\n",
              "    <tr>\n",
              "      <th>15</th>\n",
              "      <td>Kurtis Kraft 500D</td>\n",
              "      <td>united states</td>\n",
              "      <td>Kurtis Kraft</td>\n",
              "    </tr>\n",
              "    <tr>\n",
              "      <th>16</th>\n",
              "      <td>Kurtis Kraft 500E</td>\n",
              "      <td>united states</td>\n",
              "      <td>Kurtis Kraft</td>\n",
              "    </tr>\n",
              "    <tr>\n",
              "      <th>17</th>\n",
              "      <td>Kuzma</td>\n",
              "      <td>united states</td>\n",
              "      <td>Kuzma</td>\n",
              "    </tr>\n",
              "    <tr>\n",
              "      <th>18</th>\n",
              "      <td>Maserati 250F</td>\n",
              "      <td>italy</td>\n",
              "      <td>Officine Alfieri Maserati</td>\n",
              "    </tr>\n",
              "    <tr>\n",
              "      <th>19</th>\n",
              "      <td>Maserati A6GCM</td>\n",
              "      <td>italy</td>\n",
              "      <td>Officine Alfieri Maserati</td>\n",
              "    </tr>\n",
              "    <tr>\n",
              "      <th>20</th>\n",
              "      <td>Vanwall W1</td>\n",
              "      <td>Unknown</td>\n",
              "      <td>Vanwall (Vandervell Products Ltd)</td>\n",
              "    </tr>\n",
              "    <tr>\n",
              "      <th>21</th>\n",
              "      <td>Watson</td>\n",
              "      <td>Unknown</td>\n",
              "      <td>Watson</td>\n",
              "    </tr>\n",
              "  </tbody>\n",
              "</table>\n",
              "</div>\n",
              "      <button class=\"colab-df-convert\" onclick=\"convertToInteractive('df-08db454c-6a33-4088-a25d-a9e73e43d859')\"\n",
              "              title=\"Convert this dataframe to an interactive table.\"\n",
              "              style=\"display:none;\">\n",
              "        \n",
              "  <svg xmlns=\"http://www.w3.org/2000/svg\" height=\"24px\"viewBox=\"0 0 24 24\"\n",
              "       width=\"24px\">\n",
              "    <path d=\"M0 0h24v24H0V0z\" fill=\"none\"/>\n",
              "    <path d=\"M18.56 5.44l.94 2.06.94-2.06 2.06-.94-2.06-.94-.94-2.06-.94 2.06-2.06.94zm-11 1L8.5 8.5l.94-2.06 2.06-.94-2.06-.94L8.5 2.5l-.94 2.06-2.06.94zm10 10l.94 2.06.94-2.06 2.06-.94-2.06-.94-.94-2.06-.94 2.06-2.06.94z\"/><path d=\"M17.41 7.96l-1.37-1.37c-.4-.4-.92-.59-1.43-.59-.52 0-1.04.2-1.43.59L10.3 9.45l-7.72 7.72c-.78.78-.78 2.05 0 2.83L4 21.41c.39.39.9.59 1.41.59.51 0 1.02-.2 1.41-.59l7.78-7.78 2.81-2.81c.8-.78.8-2.07 0-2.86zM5.41 20L4 18.59l7.72-7.72 1.47 1.35L5.41 20z\"/>\n",
              "  </svg>\n",
              "      </button>\n",
              "      \n",
              "  <style>\n",
              "    .colab-df-container {\n",
              "      display:flex;\n",
              "      flex-wrap:wrap;\n",
              "      gap: 12px;\n",
              "    }\n",
              "\n",
              "    .colab-df-convert {\n",
              "      background-color: #E8F0FE;\n",
              "      border: none;\n",
              "      border-radius: 50%;\n",
              "      cursor: pointer;\n",
              "      display: none;\n",
              "      fill: #1967D2;\n",
              "      height: 32px;\n",
              "      padding: 0 0 0 0;\n",
              "      width: 32px;\n",
              "    }\n",
              "\n",
              "    .colab-df-convert:hover {\n",
              "      background-color: #E2EBFA;\n",
              "      box-shadow: 0px 1px 2px rgba(60, 64, 67, 0.3), 0px 1px 3px 1px rgba(60, 64, 67, 0.15);\n",
              "      fill: #174EA6;\n",
              "    }\n",
              "\n",
              "    [theme=dark] .colab-df-convert {\n",
              "      background-color: #3B4455;\n",
              "      fill: #D2E3FC;\n",
              "    }\n",
              "\n",
              "    [theme=dark] .colab-df-convert:hover {\n",
              "      background-color: #434B5C;\n",
              "      box-shadow: 0px 1px 3px 1px rgba(0, 0, 0, 0.15);\n",
              "      filter: drop-shadow(0px 1px 2px rgba(0, 0, 0, 0.3));\n",
              "      fill: #FFFFFF;\n",
              "    }\n",
              "  </style>\n",
              "\n",
              "      <script>\n",
              "        const buttonEl =\n",
              "          document.querySelector('#df-08db454c-6a33-4088-a25d-a9e73e43d859 button.colab-df-convert');\n",
              "        buttonEl.style.display =\n",
              "          google.colab.kernel.accessAllowed ? 'block' : 'none';\n",
              "\n",
              "        async function convertToInteractive(key) {\n",
              "          const element = document.querySelector('#df-08db454c-6a33-4088-a25d-a9e73e43d859');\n",
              "          const dataTable =\n",
              "            await google.colab.kernel.invokeFunction('convertToInteractive',\n",
              "                                                     [key], {});\n",
              "          if (!dataTable) return;\n",
              "\n",
              "          const docLinkHtml = 'Like what you see? Visit the ' +\n",
              "            '<a target=\"_blank\" href=https://colab.research.google.com/notebooks/data_table.ipynb>data table notebook</a>'\n",
              "            + ' to learn more about interactive tables.';\n",
              "          element.innerHTML = '';\n",
              "          dataTable['output_type'] = 'display_data';\n",
              "          await google.colab.output.renderOutput(dataTable, element);\n",
              "          const docLink = document.createElement('div');\n",
              "          docLink.innerHTML = docLinkHtml;\n",
              "          element.appendChild(docLink);\n",
              "        }\n",
              "      </script>\n",
              "    </div>\n",
              "  </div>\n",
              "  "
            ]
          },
          "metadata": {},
          "execution_count": 164
        }
      ]
    }
  ]
}