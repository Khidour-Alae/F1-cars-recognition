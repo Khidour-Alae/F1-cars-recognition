{
  "nbformat": 4,
  "nbformat_minor": 0,
  "metadata": {
    "colab": {
      "provenance": [],
      "collapsed_sections": []
    },
    "kernelspec": {
      "name": "python3",
      "display_name": "Python 3"
    },
    "language_info": {
      "name": "python"
    }
  },
  "cells": [
    {
      "cell_type": "code",
      "execution_count": null,
      "metadata": {
        "id": "_MkqDUmlPqks"
      },
      "outputs": [],
      "source": [
        "#Install Selenium and chromedriver\n",
        "!apt install chromium-chromedriver\n",
        "!cp /usr/lib/chromium-browser/chromedriver/usr/bin\n",
        "!pip install selenium"
      ]
    },
    {
      "cell_type": "code",
      "source": [
        "#Setup Selenium options and import packages\n",
        "import pandas as pd\n",
        "import time\n",
        "\n",
        "from selenium import webdriver\n",
        "from selenium.webdriver.common.keys import Keys\n",
        "\n",
        "options=webdriver.ChromeOptions()\n",
        "options.add_argument('-headless')\n",
        "options.add_argument('-no-sandbox')\n",
        "options.add_argument('-disable-dev-shm-usage')"
      ],
      "metadata": {
        "id": "TBrp6SfFUvlW"
      },
      "execution_count": 2,
      "outputs": []
    },
    {
      "cell_type": "code",
      "source": [
        "from google.colab import files\n",
        "\n",
        "csv_cars = files.upload()"
      ],
      "metadata": {
        "colab": {
          "resources": {
            "http://localhost:8080/nbextensions/google.colab/files.js": {
              "data": "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",
              "ok": true,
              "headers": [
                [
                  "content-type",
                  "application/javascript"
                ]
              ],
              "status": 200,
              "status_text": ""
            }
          },
          "base_uri": "https://localhost:8080/",
          "height": 73
        },
        "id": "nwQF8FZoX6Vt",
        "outputId": "de429d7e-6912-4146-b902-a9692c79b37e"
      },
      "execution_count": 5,
      "outputs": [
        {
          "output_type": "display_data",
          "data": {
            "text/plain": [
              "<IPython.core.display.HTML object>"
            ],
            "text/html": [
              "\n",
              "     <input type=\"file\" id=\"files-078656a8-6ef4-438a-baf3-88a331b80a4b\" name=\"files[]\" multiple disabled\n",
              "        style=\"border:none\" />\n",
              "     <output id=\"result-078656a8-6ef4-438a-baf3-88a331b80a4b\">\n",
              "      Upload widget is only available when the cell has been executed in the\n",
              "      current browser session. Please rerun this cell to enable.\n",
              "      </output>\n",
              "      <script src=\"/nbextensions/google.colab/files.js\"></script> "
            ]
          },
          "metadata": {}
        },
        {
          "output_type": "stream",
          "name": "stdout",
          "text": [
            "Saving All_F1_Cars_Of_The_History.csv to All_F1_Cars_Of_The_History.csv\n"
          ]
        }
      ]
    },
    {
      "cell_type": "code",
      "source": [
        "data = pd.read_csv(\"All_F1_Cars_Of_The_History.csv\", parse_dates=True)\n",
        "data\n"
      ],
      "metadata": {
        "colab": {
          "base_uri": "https://localhost:8080/",
          "height": 424
        },
        "id": "Zc4aVsgjWn9e",
        "outputId": "eac4c52e-209b-47a9-f825-8988e8b509f9"
      },
      "execution_count": 6,
      "outputs": [
        {
          "output_type": "execute_result",
          "data": {
            "text/plain": [
              "                            Chassis         Country  \\\n",
              "0                    Alfa Romeo 158           italy   \n",
              "1                    Alfa Romeo 159           italy   \n",
              "2                        Cooper T12  united kingdom   \n",
              "3                       Ferrari 125           italy   \n",
              "4                    Ferrari 166 F2           italy   \n",
              "...                             ...             ...   \n",
              "1402             Haas VF-22 Ferrari   united states   \n",
              "1403         McLaren MCL36 Mercedes  united kingdom   \n",
              "1404  Mercedes F1 W13 E Performance         germany   \n",
              "1405             Red Bull RB18 RBPT  united kingdom   \n",
              "1406         Williams FW44 Mercedes  united kingdom   \n",
              "\n",
              "                           Team  Year  \n",
              "0               Team Alfa Romeo  1950  \n",
              "1               Team Alfa Romeo  1950  \n",
              "2            Cooper Car Company  1950  \n",
              "3          Scuderia Ferrari SpA  1950  \n",
              "4          Scuderia Ferrari SpA  1950  \n",
              "...                         ...   ...  \n",
              "1402               Haas F1 Team  2022  \n",
              "1403  McLaren International Ltd  2022  \n",
              "1404            Mercedes AMG F1  2022  \n",
              "1405            Red Bull Racing  2022  \n",
              "1406                Williams F1  2022  \n",
              "\n",
              "[1407 rows x 4 columns]"
            ],
            "text/html": [
              "\n",
              "  <div id=\"df-cd390105-1bab-4ae7-94e4-da30371ffc48\">\n",
              "    <div class=\"colab-df-container\">\n",
              "      <div>\n",
              "<style scoped>\n",
              "    .dataframe tbody tr th:only-of-type {\n",
              "        vertical-align: middle;\n",
              "    }\n",
              "\n",
              "    .dataframe tbody tr th {\n",
              "        vertical-align: top;\n",
              "    }\n",
              "\n",
              "    .dataframe thead th {\n",
              "        text-align: right;\n",
              "    }\n",
              "</style>\n",
              "<table border=\"1\" class=\"dataframe\">\n",
              "  <thead>\n",
              "    <tr style=\"text-align: right;\">\n",
              "      <th></th>\n",
              "      <th>Chassis</th>\n",
              "      <th>Country</th>\n",
              "      <th>Team</th>\n",
              "      <th>Year</th>\n",
              "    </tr>\n",
              "  </thead>\n",
              "  <tbody>\n",
              "    <tr>\n",
              "      <th>0</th>\n",
              "      <td>Alfa Romeo 158</td>\n",
              "      <td>italy</td>\n",
              "      <td>Team Alfa Romeo</td>\n",
              "      <td>1950</td>\n",
              "    </tr>\n",
              "    <tr>\n",
              "      <th>1</th>\n",
              "      <td>Alfa Romeo 159</td>\n",
              "      <td>italy</td>\n",
              "      <td>Team Alfa Romeo</td>\n",
              "      <td>1950</td>\n",
              "    </tr>\n",
              "    <tr>\n",
              "      <th>2</th>\n",
              "      <td>Cooper T12</td>\n",
              "      <td>united kingdom</td>\n",
              "      <td>Cooper Car Company</td>\n",
              "      <td>1950</td>\n",
              "    </tr>\n",
              "    <tr>\n",
              "      <th>3</th>\n",
              "      <td>Ferrari 125</td>\n",
              "      <td>italy</td>\n",
              "      <td>Scuderia Ferrari SpA</td>\n",
              "      <td>1950</td>\n",
              "    </tr>\n",
              "    <tr>\n",
              "      <th>4</th>\n",
              "      <td>Ferrari 166 F2</td>\n",
              "      <td>italy</td>\n",
              "      <td>Scuderia Ferrari SpA</td>\n",
              "      <td>1950</td>\n",
              "    </tr>\n",
              "    <tr>\n",
              "      <th>...</th>\n",
              "      <td>...</td>\n",
              "      <td>...</td>\n",
              "      <td>...</td>\n",
              "      <td>...</td>\n",
              "    </tr>\n",
              "    <tr>\n",
              "      <th>1402</th>\n",
              "      <td>Haas VF-22 Ferrari</td>\n",
              "      <td>united states</td>\n",
              "      <td>Haas F1 Team</td>\n",
              "      <td>2022</td>\n",
              "    </tr>\n",
              "    <tr>\n",
              "      <th>1403</th>\n",
              "      <td>McLaren MCL36 Mercedes</td>\n",
              "      <td>united kingdom</td>\n",
              "      <td>McLaren International Ltd</td>\n",
              "      <td>2022</td>\n",
              "    </tr>\n",
              "    <tr>\n",
              "      <th>1404</th>\n",
              "      <td>Mercedes F1 W13 E Performance</td>\n",
              "      <td>germany</td>\n",
              "      <td>Mercedes AMG F1</td>\n",
              "      <td>2022</td>\n",
              "    </tr>\n",
              "    <tr>\n",
              "      <th>1405</th>\n",
              "      <td>Red Bull RB18 RBPT</td>\n",
              "      <td>united kingdom</td>\n",
              "      <td>Red Bull Racing</td>\n",
              "      <td>2022</td>\n",
              "    </tr>\n",
              "    <tr>\n",
              "      <th>1406</th>\n",
              "      <td>Williams FW44 Mercedes</td>\n",
              "      <td>united kingdom</td>\n",
              "      <td>Williams F1</td>\n",
              "      <td>2022</td>\n",
              "    </tr>\n",
              "  </tbody>\n",
              "</table>\n",
              "<p>1407 rows × 4 columns</p>\n",
              "</div>\n",
              "      <button class=\"colab-df-convert\" onclick=\"convertToInteractive('df-cd390105-1bab-4ae7-94e4-da30371ffc48')\"\n",
              "              title=\"Convert this dataframe to an interactive table.\"\n",
              "              style=\"display:none;\">\n",
              "        \n",
              "  <svg xmlns=\"http://www.w3.org/2000/svg\" height=\"24px\"viewBox=\"0 0 24 24\"\n",
              "       width=\"24px\">\n",
              "    <path d=\"M0 0h24v24H0V0z\" fill=\"none\"/>\n",
              "    <path d=\"M18.56 5.44l.94 2.06.94-2.06 2.06-.94-2.06-.94-.94-2.06-.94 2.06-2.06.94zm-11 1L8.5 8.5l.94-2.06 2.06-.94-2.06-.94L8.5 2.5l-.94 2.06-2.06.94zm10 10l.94 2.06.94-2.06 2.06-.94-2.06-.94-.94-2.06-.94 2.06-2.06.94z\"/><path d=\"M17.41 7.96l-1.37-1.37c-.4-.4-.92-.59-1.43-.59-.52 0-1.04.2-1.43.59L10.3 9.45l-7.72 7.72c-.78.78-.78 2.05 0 2.83L4 21.41c.39.39.9.59 1.41.59.51 0 1.02-.2 1.41-.59l7.78-7.78 2.81-2.81c.8-.78.8-2.07 0-2.86zM5.41 20L4 18.59l7.72-7.72 1.47 1.35L5.41 20z\"/>\n",
              "  </svg>\n",
              "      </button>\n",
              "      \n",
              "  <style>\n",
              "    .colab-df-container {\n",
              "      display:flex;\n",
              "      flex-wrap:wrap;\n",
              "      gap: 12px;\n",
              "    }\n",
              "\n",
              "    .colab-df-convert {\n",
              "      background-color: #E8F0FE;\n",
              "      border: none;\n",
              "      border-radius: 50%;\n",
              "      cursor: pointer;\n",
              "      display: none;\n",
              "      fill: #1967D2;\n",
              "      height: 32px;\n",
              "      padding: 0 0 0 0;\n",
              "      width: 32px;\n",
              "    }\n",
              "\n",
              "    .colab-df-convert:hover {\n",
              "      background-color: #E2EBFA;\n",
              "      box-shadow: 0px 1px 2px rgba(60, 64, 67, 0.3), 0px 1px 3px 1px rgba(60, 64, 67, 0.15);\n",
              "      fill: #174EA6;\n",
              "    }\n",
              "\n",
              "    [theme=dark] .colab-df-convert {\n",
              "      background-color: #3B4455;\n",
              "      fill: #D2E3FC;\n",
              "    }\n",
              "\n",
              "    [theme=dark] .colab-df-convert:hover {\n",
              "      background-color: #434B5C;\n",
              "      box-shadow: 0px 1px 3px 1px rgba(0, 0, 0, 0.15);\n",
              "      filter: drop-shadow(0px 1px 2px rgba(0, 0, 0, 0.3));\n",
              "      fill: #FFFFFF;\n",
              "    }\n",
              "  </style>\n",
              "\n",
              "      <script>\n",
              "        const buttonEl =\n",
              "          document.querySelector('#df-cd390105-1bab-4ae7-94e4-da30371ffc48 button.colab-df-convert');\n",
              "        buttonEl.style.display =\n",
              "          google.colab.kernel.accessAllowed ? 'block' : 'none';\n",
              "\n",
              "        async function convertToInteractive(key) {\n",
              "          const element = document.querySelector('#df-cd390105-1bab-4ae7-94e4-da30371ffc48');\n",
              "          const dataTable =\n",
              "            await google.colab.kernel.invokeFunction('convertToInteractive',\n",
              "                                                     [key], {});\n",
              "          if (!dataTable) return;\n",
              "\n",
              "          const docLinkHtml = 'Like what you see? Visit the ' +\n",
              "            '<a target=\"_blank\" href=https://colab.research.google.com/notebooks/data_table.ipynb>data table notebook</a>'\n",
              "            + ' to learn more about interactive tables.';\n",
              "          element.innerHTML = '';\n",
              "          dataTable['output_type'] = 'display_data';\n",
              "          await google.colab.output.renderOutput(dataTable, element);\n",
              "          const docLink = document.createElement('div');\n",
              "          docLink.innerHTML = docLinkHtml;\n",
              "          element.appendChild(docLink);\n",
              "        }\n",
              "      </script>\n",
              "    </div>\n",
              "  </div>\n",
              "  "
            ]
          },
          "metadata": {},
          "execution_count": 6
        }
      ]
    },
    {
      "cell_type": "code",
      "source": [
        "# Creating a webdriver instance\n",
        "driver=webdriver.Chrome('chromedriver',options=options)"
      ],
      "metadata": {
        "id": "KiC6unLuao9o"
      },
      "execution_count": 78,
      "outputs": []
    },
    {
      "cell_type": "code",
      "source": [
        "index=1400\n",
        "search_name= data.loc[index,'Chassis']+\" \"+data.loc[index,'Team']+\" \"+str(data.loc[index,'Year'])\n",
        "driver.get('https://images.google.com/')\n",
        "driver.maximize_window()\n",
        "search_bar = driver.find_element('xpath','//*[@id=\"sbtc\"]/div/div[2]/input')\n",
        "search_bar.send_keys(search_name)\n",
        "search_bar.send_keys(Keys.ENTER)\n",
        "\n",
        "img_before_click = driver.find_element(\"xpath\",'//*[@id=\"islrg\"]/div[1]/div[' +str(1) + ']/a[1]/div[1]/img')\n",
        "\n",
        "img_before_click.click()\n",
        "\n",
        "img_after_click = driver.find_element(\"xpath\",'//*[@id=\"Sva75c\"]/div/div/div[3]/div[2]/c-wiz/div/div[1]/div[1]/div[3]/div/a/img')\n",
        "\n",
        "img_src = img_after_click.get_attribute('src')\n",
        "print(img_src)\n",
        "driver.close()"
      ],
      "metadata": {
        "colab": {
          "base_uri": "https://localhost:8080/"
        },
        "id": "lADIj62pDPuH",
        "outputId": "bac65960-61b6-46c7-e618-1b379763337e"
      },
      "execution_count": 79,
      "outputs": [
        {
          "output_type": "stream",
          "name": "stdout",
          "text": [
            "<selenium.webdriver.remote.webelement.WebElement (session=\"2041b87d6116e10224cfa9694ee26116\", element=\"6b8e63d4-9f16-46a1-b72a-8ddf0cc02795\")>\n",
            "<selenium.webdriver.remote.webelement.WebElement (session=\"2041b87d6116e10224cfa9694ee26116\", element=\"ad685018-9115-41e3-8e99-bcd64642b2fd\")>\n",
            "data:image/jpeg;base64,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\n"
          ]
        }
      ]
    },
    {
      "cell_type": "code",
      "source": [
        "# Function for scrolling to the bottom of Google Images results\n",
        "def scroll_to_bottom():\n",
        " \n",
        "    last_height = driver.execute_script(\"return document.body.scrollHeight\")\n",
        " \n",
        "    while True:\n",
        "        driver.execute_script('window.scrollTo(0,document.body.scrollHeight)')\n",
        " \n",
        "        # waiting for the results to load\n",
        "        # Increase the sleep time if your internet is slow\n",
        "        time.sleep(3)\n",
        " \n",
        "        new_height = driver.execute_script('return document.body.scrollHeight')\n",
        " \n",
        "        # click on \"Show more results\" (if exists)\n",
        "        try:\n",
        "            driver.find_element(\"css_selector\",\".YstHxe input\").click()\n",
        " \n",
        "            # waiting for the results to load\n",
        "            # Increase the sleep time if your internet is slow\n",
        "            time.sleep(3)\n",
        " \n",
        "        except:\n",
        "            pass\n",
        " \n",
        "        # checking if we have reached the bottom of the page\n",
        "        if new_height == last_height:\n",
        "            break\n",
        " \n",
        "        last_height = new_height"
      ],
      "metadata": {
        "id": "nGFN5cYffFDP"
      },
      "execution_count": 46,
      "outputs": []
    },
    {
      "cell_type": "code",
      "source": [
        "def search_car(index):\n",
        "  # What you enter here will be searched for in Google Images\n",
        "  search_name= data.loc[index,'Chassis']+\" \"+data.loc[index,'Team']+\" \"+str(data.loc[index,'Year'])\n",
        "  \n",
        "  # Open Google Images in the browser\n",
        "  driver.get('https://images.google.com/')\n",
        "\n",
        "  # Maximize the screen\n",
        "  driver.maximize_window()\n",
        "\n",
        "  # Finding the search bar\n",
        "  search_bar = driver.find_element('xpath','//*[@id=\"sbtc\"]/div/div[2]/input')\n",
        " \n",
        "  # Type the search query in the search bar\n",
        "  search_bar.send_keys(search_name)\n",
        " \n",
        "  # Pressing enter\n",
        "  search_bar.send_keys(Keys.ENTER)\n",
        "\n",
        "  # Calling the function\n",
        " \n",
        "  # NOTE: If you only want to capture a few images,\n",
        "  # there is no need to use the scroll_to_bottom() function.\n",
        "  scroll_to_bottom()\n",
        "\n",
        "  # Loop to capture and save each image\n",
        "  for i in range(1, 150):\n",
        "    \n",
        "      # range(1, 151) will capture images 1 to 150 of the search results\n",
        "      # You can change the range as per your need.\n",
        "      try:\n",
        "  \n",
        "        # XPath of each image\n",
        "          img_before_click = driver.find_element(\"xpath\",'//*[@id=\"islrg\"]/div[1]/div[' +str(i) + ']/a[1]/div[1]/img')\n",
        "          img_cliked = img_before_click.click()\n",
        "          img_after_click = img_cliked.find_element(\"xpath\",'//*[@id=\"Sva75c\"]/div/div/div[3]/div[2]/c-wiz/div/div[1]/div[1]/div[3]/div/a/img')\n",
        "          img_src = img_after_click.get_attribute('src')\n",
        "          # Each new screenshot will automatically have its name updated\n",
        "          print(img_src)\n",
        "          # Just to avoid unwanted errors\n",
        "          time.sleep(0.2)\n",
        "  \n",
        "      except:\n",
        "          \n",
        "          # if we can't find the XPath of an image, we skip to the next image\n",
        "          continue\n",
        "  \n",
        "  # Finally, we close the driver\n",
        "  driver.close()\n",
        "\n",
        "\n",
        "\n",
        "  "
      ],
      "metadata": {
        "id": "Nw5n0ixkYmE5"
      },
      "execution_count": 48,
      "outputs": []
    },
    {
      "cell_type": "code",
      "source": [
        "index=1400\n",
        "data.loc[index,'Chassis']+\" \"+data.loc[index,'Team']+\" \"+str(data.loc[index,'Year'])"
      ],
      "metadata": {
        "colab": {
          "base_uri": "https://localhost:8080/",
          "height": 35
        },
        "id": "RZoL37sX_iK1",
        "outputId": "39f9a80b-dcc5-4090-cd26-8793b45a539a"
      },
      "execution_count": 50,
      "outputs": [
        {
          "output_type": "execute_result",
          "data": {
            "text/plain": [
              "'Aston Martin AMR22 Mercedes Aston Martin 2022'"
            ],
            "application/vnd.google.colaboratory.intrinsic+json": {
              "type": "string"
            }
          },
          "metadata": {},
          "execution_count": 50
        }
      ]
    },
    {
      "cell_type": "code",
      "source": [
        "search_car(1400)"
      ],
      "metadata": {
        "id": "RSm8xjyjgNNy"
      },
      "execution_count": null,
      "outputs": []
    }
  ]
}